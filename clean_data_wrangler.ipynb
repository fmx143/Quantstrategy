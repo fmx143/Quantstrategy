{
 "cells": [
  {
   "cell_type": "markdown",
   "metadata": {},
   "source": [
    "Import data and packages"
   ]
  },
  {
   "cell_type": "code",
   "execution_count": null,
   "metadata": {},
   "outputs": [],
   "source": [
    "import pandas as pd\n",
    "from apy import *\n",
    "\n",
    "\n",
    "# Load the data - only change the path and then use extension Data Wrangler to modify the data\n",
    "df = pd.read_csv(\n",
    "eu_15min\n",
    ")\n",
    "\n",
    "#df.columns.values[0] = \"datetime\"\n",
    "\n",
    "df.head()\n",
    "\n",
    "\n"
   ]
  },
  {
   "cell_type": "markdown",
   "metadata": {},
   "source": [
    "Specific for forex datetime index for panda"
   ]
  },
  {
   "cell_type": "code",
   "execution_count": null,
   "metadata": {},
   "outputs": [],
   "source": [
    "def prepare_dataframe_for_backtrader(data):\n",
    "    \"\"\"\n",
    "    Prepares a Pandas DataFrame for use with bt.feeds.PandasData in Backtrader.\n",
    "    Args:\n",
    "        data (pd.DataFrame): The input DataFrame with OHLC data.\n",
    "    Returns:\n",
    "        pd.DataFrame: A DataFrame ready for Backtrader.\n",
    "    \"\"\"\n",
    "    # Print column names for debugging\n",
    "    print(\"Original columns:\", data.columns)\n",
    "\n",
    "    data.rename(columns={\n",
    "        'open': 'Open',\n",
    "        'high': 'High',\n",
    "        'low': 'Low',\n",
    "        'close/last': 'Close',\n",
    "        'volume': 'Volume'\n",
    "    }, inplace=True)\n",
    "\n",
    "    # Ensure the 'volume' column exists in the data\n",
    "    if 'Volume' not in data.columns:\n",
    "        print(\"Adding a 'volume' column with default values (0)...\")\n",
    "        data['Volume'] = 0  # Add a volume column with default values\n",
    "\n",
    "    # Ensure 'datetime' column exists\n",
    "    if 'datetime' not in data.columns:\n",
    "        raise KeyError(\"The DataFrame does not have a 'datetime' column.\")\n",
    "\n",
    "    # Ensure 'datetime' column is in datetime format\n",
    "    if not pd.api.types.is_datetime64_any_dtype(data['datetime']):\n",
    "        print(\"Converting 'datetime' column to datetime format...\")\n",
    "        data['datetime'] = pd.to_datetime(data['datetime'], errors='coerce')\n",
    "\n",
    "    # Check for invalid datetime entries\n",
    "    if data['datetime'].isnull().any():\n",
    "        raise ValueError(\"The 'datetime' column contains invalid or missing values after conversion.\")\n",
    "\n",
    "    # Set 'datetime' as the index\n",
    "    data.set_index('datetime', inplace=True)\n",
    "\n",
    "    # Ensure the index is sorted (Backtrader requires chronological order)\n",
    "    if not data.index.is_monotonic_increasing:\n",
    "        print(\"Sorting the DataFrame by the 'datetime' index...\")\n",
    "        data.sort_index(inplace=True)\n",
    "\n",
    "    # Ensure required columns exist\n",
    "    required_columns = ['Open', 'High', 'Low', 'Close']\n",
    "    for col in required_columns:\n",
    "        if col not in data.columns:\n",
    "            raise ValueError(f\"Missing required column: '{col}'\")\n",
    "\n",
    "    print(\"The DataFrame is ready for Backtrader.\")\n",
    "    return data\n",
    "\n",
    "# Example usage\n",
    "clean_data = prepare_dataframe_for_backtrader(df)\n",
    "clean_data.head()\n",
    "\n",
    "clean_data.to_csv(\"Clean_gold_daily_backtrader\") #ex: Clean_gold_daily_backtrader"
   ]
  }
 ],
 "metadata": {
  "kernelspec": {
   "display_name": "quanttrading",
   "language": "python",
   "name": "python3"
  },
  "language_info": {
   "codemirror_mode": {
    "name": "ipython",
    "version": 3
   },
   "file_extension": ".py",
   "mimetype": "text/x-python",
   "name": "python",
   "nbconvert_exporter": "python",
   "pygments_lexer": "ipython3",
   "version": "3.8.19"
  }
 },
 "nbformat": 4,
 "nbformat_minor": 2
}
