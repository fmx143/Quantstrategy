{
 "cells": [
  {
   "cell_type": "markdown",
   "metadata": {},
   "source": [
    "Import data and packages"
   ]
  },
  {
   "cell_type": "code",
   "execution_count": 3,
   "metadata": {},
   "outputs": [
    {
     "data": {
      "application/vnd.microsoft.datawrangler.viewer.v0+json": {
       "columns": [
        {
         "name": "index",
         "rawType": "int64",
         "type": "integer"
        },
        {
         "name": "Date",
         "rawType": "object",
         "type": "string"
        },
        {
         "name": "Close/Last",
         "rawType": "float64",
         "type": "float"
        },
        {
         "name": "Volume",
         "rawType": "float64",
         "type": "float"
        },
        {
         "name": "Open",
         "rawType": "float64",
         "type": "float"
        },
        {
         "name": "High",
         "rawType": "float64",
         "type": "float"
        },
        {
         "name": "Low",
         "rawType": "float64",
         "type": "float"
        }
       ],
       "conversionMethod": "pd.DataFrame",
       "ref": "8d5a4f31-060f-4264-95c9-f7e9e6f75c13",
       "rows": [
        [
         "0",
         "09/27/2024",
         "1.1164",
         null,
         "1.1176",
         "1.1203",
         "1.1125"
        ],
        [
         "1",
         "09/26/2024",
         "1.117",
         null,
         "1.1176",
         "1.1179",
         "1.1162"
        ],
        [
         "2",
         "09/25/2024",
         "1.1139",
         null,
         "1.1132",
         "1.1145",
         "1.1129"
        ],
        [
         "3",
         "09/24/2024",
         "1.1197",
         null,
         "1.118",
         "1.1199",
         "1.1178"
        ],
        [
         "4",
         "09/23/2024",
         "1.1113",
         null,
         "1.1112",
         "1.1117",
         "1.1103"
        ]
       ],
       "shape": {
        "columns": 6,
        "rows": 5
       }
      },
      "text/html": [
       "<div>\n",
       "<style scoped>\n",
       "    .dataframe tbody tr th:only-of-type {\n",
       "        vertical-align: middle;\n",
       "    }\n",
       "\n",
       "    .dataframe tbody tr th {\n",
       "        vertical-align: top;\n",
       "    }\n",
       "\n",
       "    .dataframe thead th {\n",
       "        text-align: right;\n",
       "    }\n",
       "</style>\n",
       "<table border=\"1\" class=\"dataframe\">\n",
       "  <thead>\n",
       "    <tr style=\"text-align: right;\">\n",
       "      <th></th>\n",
       "      <th>Date</th>\n",
       "      <th>Close/Last</th>\n",
       "      <th>Volume</th>\n",
       "      <th>Open</th>\n",
       "      <th>High</th>\n",
       "      <th>Low</th>\n",
       "    </tr>\n",
       "  </thead>\n",
       "  <tbody>\n",
       "    <tr>\n",
       "      <th>0</th>\n",
       "      <td>09/27/2024</td>\n",
       "      <td>1.1164</td>\n",
       "      <td>NaN</td>\n",
       "      <td>1.1176</td>\n",
       "      <td>1.1203</td>\n",
       "      <td>1.1125</td>\n",
       "    </tr>\n",
       "    <tr>\n",
       "      <th>1</th>\n",
       "      <td>09/26/2024</td>\n",
       "      <td>1.1170</td>\n",
       "      <td>NaN</td>\n",
       "      <td>1.1176</td>\n",
       "      <td>1.1179</td>\n",
       "      <td>1.1162</td>\n",
       "    </tr>\n",
       "    <tr>\n",
       "      <th>2</th>\n",
       "      <td>09/25/2024</td>\n",
       "      <td>1.1139</td>\n",
       "      <td>NaN</td>\n",
       "      <td>1.1132</td>\n",
       "      <td>1.1145</td>\n",
       "      <td>1.1129</td>\n",
       "    </tr>\n",
       "    <tr>\n",
       "      <th>3</th>\n",
       "      <td>09/24/2024</td>\n",
       "      <td>1.1197</td>\n",
       "      <td>NaN</td>\n",
       "      <td>1.1180</td>\n",
       "      <td>1.1199</td>\n",
       "      <td>1.1178</td>\n",
       "    </tr>\n",
       "    <tr>\n",
       "      <th>4</th>\n",
       "      <td>09/23/2024</td>\n",
       "      <td>1.1113</td>\n",
       "      <td>NaN</td>\n",
       "      <td>1.1112</td>\n",
       "      <td>1.1117</td>\n",
       "      <td>1.1103</td>\n",
       "    </tr>\n",
       "  </tbody>\n",
       "</table>\n",
       "</div>"
      ],
      "text/plain": [
       "         Date  Close/Last  Volume    Open    High     Low\n",
       "0  09/27/2024      1.1164     NaN  1.1176  1.1203  1.1125\n",
       "1  09/26/2024      1.1170     NaN  1.1176  1.1179  1.1162\n",
       "2  09/25/2024      1.1139     NaN  1.1132  1.1145  1.1129\n",
       "3  09/24/2024      1.1197     NaN  1.1180  1.1199  1.1178\n",
       "4  09/23/2024      1.1113     NaN  1.1112  1.1117  1.1103"
      ]
     },
     "execution_count": 3,
     "metadata": {},
     "output_type": "execute_result"
    }
   ],
   "source": [
    "import pandas as pd\n",
    "\n",
    "\n",
    "# Load the data - only change the path and then use extension Data Wrangler to modify the data\n",
    "df = pd.read_csv(r\"C:\\Users\\loick\\Visual Studio Code\\Forex Historical Data\\EURUSD_D1_HistoricalData_2019-2024.csv\",\n",
    "sep=\",\")\n",
    "\n",
    "\n",
    "df.head()\n"
   ]
  }
 ],
 "metadata": {
  "kernelspec": {
   "display_name": "quanttrading",
   "language": "python",
   "name": "python3"
  },
  "language_info": {
   "codemirror_mode": {
    "name": "ipython",
    "version": 3
   },
   "file_extension": ".py",
   "mimetype": "text/x-python",
   "name": "python",
   "nbconvert_exporter": "python",
   "pygments_lexer": "ipython3",
   "version": "3.8.20"
  }
 },
 "nbformat": 4,
 "nbformat_minor": 2
}
