{
 "cells": [
  {
   "cell_type": "markdown",
   "metadata": {},
   "source": [
    "Import data and packages"
   ]
  },
  {
   "cell_type": "code",
<<<<<<< HEAD
   "execution_count": null,
   "metadata": {},
   "outputs": [],
=======
   "execution_count": 1,
   "metadata": {},
   "outputs": [
    {
     "data": {
      "application/vnd.microsoft.datawrangler.viewer.v0+json": {
       "columns": [
        {
         "name": "index",
         "rawType": "int64",
         "type": "integer"
        },
        {
         "name": "datetime",
         "rawType": "object",
         "type": "string"
        },
        {
         "name": "open",
         "rawType": "float64",
         "type": "float"
        },
        {
         "name": "high",
         "rawType": "float64",
         "type": "float"
        },
        {
         "name": "low",
         "rawType": "float64",
         "type": "float"
        },
        {
         "name": "close/last",
         "rawType": "float64",
         "type": "float"
        },
        {
         "name": "volume",
         "rawType": "float64",
         "type": "float"
        }
       ],
       "conversionMethod": "pd.DataFrame",
       "ref": "a0362763-c8d8-44a5-862e-d6cd69912eea",
       "rows": [
        [
         "0",
         "09/27/2024",
         "2695.1",
         "2696.9",
         "2665.3",
         "2668.1",
         "185803.0"
        ],
        [
         "1",
         "09/26/2024",
         "2681.2",
         "2708.7",
         "2677.5",
         "2694.9",
         "209124.0"
        ],
        [
         "2",
         "09/25/2024",
         "2682.8",
         "2694.9",
         "2673.4",
         "2684.7",
         "181801.0"
        ],
        [
         "3",
         "09/24/2024",
         "2653.3",
         "2689.4",
         "2647.1",
         "2677.0",
         "207439.0"
        ],
        [
         "4",
         "09/23/2024",
         "2646.2",
         "2659.8",
         "2638.6",
         "2652.5",
         "160273.0"
        ]
       ],
       "shape": {
        "columns": 6,
        "rows": 5
       }
      },
      "text/html": [
       "<div>\n",
       "<style scoped>\n",
       "    .dataframe tbody tr th:only-of-type {\n",
       "        vertical-align: middle;\n",
       "    }\n",
       "\n",
       "    .dataframe tbody tr th {\n",
       "        vertical-align: top;\n",
       "    }\n",
       "\n",
       "    .dataframe thead th {\n",
       "        text-align: right;\n",
       "    }\n",
       "</style>\n",
       "<table border=\"1\" class=\"dataframe\">\n",
       "  <thead>\n",
       "    <tr style=\"text-align: right;\">\n",
       "      <th></th>\n",
       "      <th>datetime</th>\n",
       "      <th>open</th>\n",
       "      <th>high</th>\n",
       "      <th>low</th>\n",
       "      <th>close/last</th>\n",
       "      <th>volume</th>\n",
       "    </tr>\n",
       "  </thead>\n",
       "  <tbody>\n",
       "    <tr>\n",
       "      <th>0</th>\n",
       "      <td>09/27/2024</td>\n",
       "      <td>2695.1</td>\n",
       "      <td>2696.9</td>\n",
       "      <td>2665.3</td>\n",
       "      <td>2668.1</td>\n",
       "      <td>185803.0</td>\n",
       "    </tr>\n",
       "    <tr>\n",
       "      <th>1</th>\n",
       "      <td>09/26/2024</td>\n",
       "      <td>2681.2</td>\n",
       "      <td>2708.7</td>\n",
       "      <td>2677.5</td>\n",
       "      <td>2694.9</td>\n",
       "      <td>209124.0</td>\n",
       "    </tr>\n",
       "    <tr>\n",
       "      <th>2</th>\n",
       "      <td>09/25/2024</td>\n",
       "      <td>2682.8</td>\n",
       "      <td>2694.9</td>\n",
       "      <td>2673.4</td>\n",
       "      <td>2684.7</td>\n",
       "      <td>181801.0</td>\n",
       "    </tr>\n",
       "    <tr>\n",
       "      <th>3</th>\n",
       "      <td>09/24/2024</td>\n",
       "      <td>2653.3</td>\n",
       "      <td>2689.4</td>\n",
       "      <td>2647.1</td>\n",
       "      <td>2677.0</td>\n",
       "      <td>207439.0</td>\n",
       "    </tr>\n",
       "    <tr>\n",
       "      <th>4</th>\n",
       "      <td>09/23/2024</td>\n",
       "      <td>2646.2</td>\n",
       "      <td>2659.8</td>\n",
       "      <td>2638.6</td>\n",
       "      <td>2652.5</td>\n",
       "      <td>160273.0</td>\n",
       "    </tr>\n",
       "  </tbody>\n",
       "</table>\n",
       "</div>"
      ],
      "text/plain": [
       "     datetime    open    high     low  close/last    volume\n",
       "0  09/27/2024  2695.1  2696.9  2665.3      2668.1  185803.0\n",
       "1  09/26/2024  2681.2  2708.7  2677.5      2694.9  209124.0\n",
       "2  09/25/2024  2682.8  2694.9  2673.4      2684.7  181801.0\n",
       "3  09/24/2024  2653.3  2689.4  2647.1      2677.0  207439.0\n",
       "4  09/23/2024  2646.2  2659.8  2638.6      2652.5  160273.0"
      ]
     },
     "execution_count": 1,
     "metadata": {},
     "output_type": "execute_result"
    }
   ],
>>>>>>> 10e531e6810be2fa510f4f82a852893e0fae5244
   "source": [
    "import pandas as pd\n",
    "from apy import *\n",
    "\n",
    "\n",
    "# Load the data - only change the path and then use extension Data Wrangler to modify the data\n",
    "df = pd.read_csv(\n",
<<<<<<< HEAD
    "eu_15min\n",
=======
    "semi_gold_daily,\n",
>>>>>>> 10e531e6810be2fa510f4f82a852893e0fae5244
    ")\n",
    "\n",
    "#df.columns.values[0] = \"datetime\"\n",
    "\n",
    "df.head()\n",
    "\n",
    "\n"
   ]
  },
  {
   "cell_type": "markdown",
   "metadata": {},
   "source": [
    "Specific for forex datetime index for panda"
   ]
  },
  {
   "cell_type": "code",
<<<<<<< HEAD
   "execution_count": null,
   "metadata": {},
   "outputs": [],
=======
   "execution_count": 2,
   "metadata": {},
   "outputs": [
    {
     "name": "stdout",
     "output_type": "stream",
     "text": [
      "Original columns: Index(['datetime', 'open', 'high', 'low', 'close/last', 'volume'], dtype='object')\n",
      "Converting 'datetime' column to datetime format...\n",
      "Sorting the DataFrame by the 'datetime' index...\n",
      "The DataFrame is ready for Backtrader.\n"
     ]
    }
   ],
>>>>>>> 10e531e6810be2fa510f4f82a852893e0fae5244
   "source": [
    "def prepare_dataframe_for_backtrader(data):\n",
    "    \"\"\"\n",
    "    Prepares a Pandas DataFrame for use with bt.feeds.PandasData in Backtrader.\n",
    "    Args:\n",
    "        data (pd.DataFrame): The input DataFrame with OHLC data.\n",
    "    Returns:\n",
    "        pd.DataFrame: A DataFrame ready for Backtrader.\n",
    "    \"\"\"\n",
    "    # Print column names for debugging\n",
    "    print(\"Original columns:\", data.columns)\n",
    "\n",
    "    data.rename(columns={\n",
    "        'open': 'Open',\n",
    "        'high': 'High',\n",
    "        'low': 'Low',\n",
    "        'close/last': 'Close',\n",
    "        'volume': 'Volume'\n",
    "    }, inplace=True)\n",
    "\n",
    "    # Ensure the 'volume' column exists in the data\n",
    "    if 'Volume' not in data.columns:\n",
    "        print(\"Adding a 'volume' column with default values (0)...\")\n",
    "        data['Volume'] = 0  # Add a volume column with default values\n",
    "\n",
    "    # Ensure 'datetime' column exists\n",
    "    if 'datetime' not in data.columns:\n",
    "        raise KeyError(\"The DataFrame does not have a 'datetime' column.\")\n",
    "\n",
    "    # Ensure 'datetime' column is in datetime format\n",
    "    if not pd.api.types.is_datetime64_any_dtype(data['datetime']):\n",
    "        print(\"Converting 'datetime' column to datetime format...\")\n",
    "        data['datetime'] = pd.to_datetime(data['datetime'], errors='coerce')\n",
    "\n",
    "    # Check for invalid datetime entries\n",
    "    if data['datetime'].isnull().any():\n",
    "        raise ValueError(\"The 'datetime' column contains invalid or missing values after conversion.\")\n",
    "\n",
    "    # Set 'datetime' as the index\n",
    "    data.set_index('datetime', inplace=True)\n",
    "\n",
    "    # Ensure the index is sorted (Backtrader requires chronological order)\n",
    "    if not data.index.is_monotonic_increasing:\n",
    "        print(\"Sorting the DataFrame by the 'datetime' index...\")\n",
    "        data.sort_index(inplace=True)\n",
    "\n",
    "    # Ensure required columns exist\n",
    "    required_columns = ['Open', 'High', 'Low', 'Close']\n",
    "    for col in required_columns:\n",
    "        if col not in data.columns:\n",
    "            raise ValueError(f\"Missing required column: '{col}'\")\n",
    "\n",
    "    print(\"The DataFrame is ready for Backtrader.\")\n",
    "    return data\n",
    "\n",
    "# Example usage\n",
    "clean_data = prepare_dataframe_for_backtrader(df)\n",
    "clean_data.head()\n",
    "\n",
    "clean_data.to_csv(\"Clean_gold_daily_backtrader\") #ex: Clean_gold_daily_backtrader"
   ]
  }
 ],
 "metadata": {
  "kernelspec": {
   "display_name": "quanttrading",
   "language": "python",
   "name": "python3"
  },
  "language_info": {
   "codemirror_mode": {
    "name": "ipython",
    "version": 3
   },
   "file_extension": ".py",
   "mimetype": "text/x-python",
   "name": "python",
   "nbconvert_exporter": "python",
   "pygments_lexer": "ipython3",
<<<<<<< HEAD
   "version": "3.8.19"
=======
   "version": "3.8.20"
>>>>>>> 10e531e6810be2fa510f4f82a852893e0fae5244
  }
 },
 "nbformat": 4,
 "nbformat_minor": 2
}
