{
 "cells": [
  {
   "cell_type": "markdown",
   "metadata": {},
   "source": [
    "Import data and packages"
   ]
  },
  {
   "cell_type": "code",
   "execution_count": 27,
   "metadata": {},
   "outputs": [
    {
     "name": "stdout",
     "output_type": "stream",
     "text": [
      "                                datetime    open    high     low   close\n",
      "datetime                                                                \n",
      "2000-01-03 00:00:00  2000.01.03 00:00:00  102.14  102.15  102.12  102.14\n",
      "2000-01-03 00:15:00  2000.01.03 00:15:00  102.15  102.26  102.13  102.26\n",
      "2000-01-03 00:30:00  2000.01.03 00:30:00  102.15  102.17  102.14  102.15\n",
      "2000-01-03 00:45:00  2000.01.03 00:45:00  102.16  102.20  102.12  102.20\n",
      "2000-01-03 01:00:00  2000.01.03 01:00:00  102.20  102.22  102.12  102.12\n"
     ]
    },
    {
     "data": {
      "text/plain": [
       "'\\n#Import yfinance data\\ndata = yf.download(\"USDJPY=X\", period=\"max\", interval=\"15m\")\\nprint(data.head())\\n'"
      ]
     },
     "execution_count": 27,
     "metadata": {},
     "output_type": "execute_result"
    }
   ],
   "source": [
    "import pandas as pd\n",
    "import pandas_ta as ta\n",
    "import yfinance as yf\n",
    "\n",
    "# Load the data\n",
    "df = pd.read_csv(r\"C:\\Users\\loick\\Visual Studio Code\\My Coding\\Quantstrategy\\cleaned_USDJPY-2000-2020-15m.csv\",\n",
    "sep=\",\")\n",
    "\n",
    "# Set datetime index\n",
    "df.set_index(pd.DatetimeIndex(df[\"datetime\"]), inplace=True)\n",
    "print(df.head())\n",
    "\n",
    "'''\n",
    "#Import yfinance data\n",
    "data = yf.download(\"USDJPY=X\", period=\"max\", interval=\"15m\")\n",
    "print(data.head())\n",
    "'''"
   ]
  },
  {
   "cell_type": "markdown",
   "metadata": {},
   "source": [
    "Indicators"
   ]
  },
  {
   "cell_type": "code",
   "execution_count": 35,
   "metadata": {},
   "outputs": [],
   "source": [
    "# Calculate technical indicators\n",
    "df[\"EMA 5\"]=ta.ema(df[\"close\"], 8)\n",
    "df[\"EMA 15\"]=ta.ema(df[\"close\"], 21)\n",
    "df[\"EMA 30\"]=ta.ema(df[\"close\"], 50)\n",
    "df[\"EMA 50\"]=ta.ema(df[\"close\"], 200)\n",
    "\n",
    "bollinger_bands=ta.bbands(df[\"close\"], 20, 2.0)\n",
    "df[\"BB_high\"]=bollinger_bands[\"BBU_20_2.0\"]\n",
    "df[\"BB_low\"]=bollinger_bands[\"BBL_20_2.0\"]\n",
    "df[\"BB_avg\"]=bollinger_bands[\"BBM_20_2.0\"]\n"
   ]
  },
  {
   "cell_type": "markdown",
   "metadata": {},
   "source": [
    "Management"
   ]
  },
  {
   "cell_type": "code",
   "execution_count": 29,
   "metadata": {},
   "outputs": [],
   "source": [
    "stoploss=10\n",
    "risk_reward_ratio=3\n",
    "take_profit=stoploss*risk_reward_ratio\n",
    "\n"
   ]
  },
  {
   "cell_type": "markdown",
   "metadata": {},
   "source": [
    "Strategy"
   ]
  },
  {
   "cell_type": "code",
   "execution_count": null,
   "metadata": {},
   "outputs": [],
   "source": [
    "bb_overbought = df[\"close\"] > df[\"BB_high\"]\n",
    "bb_oversold = df[\"close\"] < df[\"BB_low\"]\n",
    "\n",
    "# 2. condition\n",
    "# A bearish signal occurs when the 5 EMA is higher than all the other\n",
    "# A bullish signal occurs when the 5 EMA is lower than all the other\n",
    "ema_sell = (df[\"EMA 5\"] > df[\"EMA 15\"]) & (df[\"EMA 5\"] > df[\"EMA 30\"]) & (df[\"EMA 5\"] > df[\"EMA 50\"])\n",
    "ema_buy = (df[\"EMA 5\"] < df[\"EMA 15\"]) & (df[\"EMA 5\"] < df[\"EMA 30\"]) & (df[\"EMA 5\"] < df[\"EMA 50\"])\n",
    "\n",
    "\n",
    "def strategy()\n",
    "\n"
   ]
  }
 ],
 "metadata": {
  "kernelspec": {
   "display_name": "quanttrading",
   "language": "python",
   "name": "python3"
  },
  "language_info": {
   "codemirror_mode": {
    "name": "ipython",
    "version": 3
   },
   "file_extension": ".py",
   "mimetype": "text/x-python",
   "name": "python",
   "nbconvert_exporter": "python",
   "pygments_lexer": "ipython3",
   "version": "3.8.20"
  }
 },
 "nbformat": 4,
 "nbformat_minor": 2
}
